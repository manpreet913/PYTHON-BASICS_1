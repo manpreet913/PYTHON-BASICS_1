{
  "nbformat": 4,
  "nbformat_minor": 0,
  "metadata": {
    "colab": {
      "provenance": []
    },
    "kernelspec": {
      "name": "python3",
      "display_name": "Python 3"
    },
    "language_info": {
      "name": "python"
    }
  },
  "cells": [
    {
      "cell_type": "markdown",
      "source": [
        "# Data Types and Structures\n"
      ],
      "metadata": {
        "id": "myVhgk-UEhX4"
      }
    },
    {
      "cell_type": "markdown",
      "source": [
        "# Data Types and Structures\n"
      ],
      "metadata": {
        "id": "WZLiISs4HDI7"
      }
    },
    {
      "cell_type": "markdown",
      "source": [
        "Q1. What are data structures, and why are they important?\n",
        "- Data Structure are the specialized formats for organizing, storing and accessing collection of data.\n",
        "- It is important as it impacts the effeciency and performance of the program by choosing the right data structure. It also optimize searching and sorting operations and also conserves the memory usage."
      ],
      "metadata": {
        "id": "luHIjG0oHIIy"
      }
    },
    {
      "cell_type": "markdown",
      "source": [
        "Q2.  Explain the difference between mutable and immutable data types with examples?\n",
        "- Mutable data types are those in which data can be edited or changed where as in Immutable data types, the data cannot be changed or edited at any cost. Data which is stored in the form of 'LISTS' or 'DICTIONARIES' can be mutable and data of 'TUPLES' and 'STRINGS' are immutable."
      ],
      "metadata": {
        "id": "gfO6m_4UIggA"
      }
    },
    {
      "cell_type": "markdown",
      "source": [
        "Q3. What are the main differences between lists and tuples in Python?\n",
        "-  One of the main difference is that LISTS are mutable where as TUPLES are immutable. In LISTS you can add, modify or remove the data within the list with the help of indexing and slicing but in TUPLES you can only access the data by Indexing, you cannot modify the content."
      ],
      "metadata": {
        "id": "ipDEvoo0I5QN"
      }
    },
    {
      "cell_type": "markdown",
      "source": [
        "Q4. Describe how dictionaries store data?\n",
        "- In Dictionaries, the elements are not stored in the specific order. Each key has a unique value but both keys and values are of various data types such as strings, numbers, lists, etc..."
      ],
      "metadata": {
        "id": "PJNlBryQJD3W"
      }
    },
    {
      "cell_type": "markdown",
      "source": [
        "Q5. Why might you use a set instead of a list in Python?\n",
        "- We use SET instead of a LIST in python because SETS are  immutable and cannot allows duplicates. All the elements of SETS are unique."
      ],
      "metadata": {
        "id": "GC5eYOpmJKYS"
      }
    },
    {
      "cell_type": "markdown",
      "source": [
        "Q6. What is a string in Python, and how is it different from a list?\n",
        "- String can be a sentence. a word, a paragraph or a piece of material whose characters are arranged in unchangable order. STRING is different from LIST as list is mutable and string is immutable."
      ],
      "metadata": {
        "id": "5WyznOoWJMWf"
      }
    },
    {
      "cell_type": "markdown",
      "source": [
        "Q7. How do tuples ensure data integrity in Python?\n",
        "- TUPLES are immutable collection of elements. Once a tuple is created, it cannot be changed. This is one of the secure method to store data without modifying it."
      ],
      "metadata": {
        "id": "LIMN4ZNpJbYc"
      }
    },
    {
      "cell_type": "markdown",
      "source": [
        "Q8. What is a hash table, and how does it relate to dictionaries in Python?\n",
        "- A hash table is a collection of associated pairs of items where each pair consists of a key and a value. Hash tables are often called the more general term map because the associated hash function “maps” the key to the value. When a key-value pair is inserted, the hash function calculates an index for the key, and the value is stored at that location. When retrieving a value, the same hash function is applied to the key to quickly locate its corresponding value."
      ],
      "metadata": {
        "id": "jI3PyADhJhQq"
      }
    },
    {
      "cell_type": "markdown",
      "source": [
        "Q9. Can lists contain different data types in Python?\n",
        "- YES, Lists contains different data types in Python."
      ],
      "metadata": {
        "id": "Q2K4_dHFJiyw"
      }
    },
    {
      "cell_type": "markdown",
      "source": [
        "Q10.  Explain why strings are immutable in Python?\n",
        "- STRINGS are immutable in python because each character in the string can be accessed by its index, or position."
      ],
      "metadata": {
        "id": "T17uK92vJttg"
      }
    },
    {
      "cell_type": "markdown",
      "source": [
        "Q11. What advantages do dictionaries offer over lists for certain tasks?\n",
        "- Dictionaries offer lists for certain tasks as DICTIONARIES provides a unique key for representing a particular value which becomes very helpful to find a quick value with the help of its Key."
      ],
      "metadata": {
        "id": "y3yGplklJzhC"
      }
    },
    {
      "cell_type": "markdown",
      "source": [
        "Q12. Describe a scenario where using a tuple would be preferable over a list?\n",
        "- In an office, the attendence of employees can be marked with the help of tuples over a list because TUPLES are immutable and the data also cannot be modified."
      ],
      "metadata": {
        "id": "2uWNLhCtJ59D"
      }
    },
    {
      "cell_type": "markdown",
      "source": [
        ":Q13. How do sets handle duplicate values in Python?\n",
        "- Sets does not allow duplicate entries in Python. All elements are unique and unordered."
      ],
      "metadata": {
        "id": "udDtlBN9J_97"
      }
    },
    {
      "cell_type": "markdown",
      "source": [
        "Q14. How does the “in” keyword work differently for lists and dictionaries?\n",
        "- \"IN\" keyword work for LISTS to find a value in list or present in list and for DICTIONARY it checks the membership operations,also use in iteration for loop"
      ],
      "metadata": {
        "id": "AiMKQnwXKBYX"
      }
    },
    {
      "cell_type": "markdown",
      "source": [
        "Q15. Can you modify the elements of a tuple? Explain why or why not?\n",
        "- NO, you cannot modify the elements of a TUPLE because it is immutable and used to represent fixed dataset."
      ],
      "metadata": {
        "id": "d5THQPLQKLBw"
      }
    },
    {
      "cell_type": "markdown",
      "source": [
        "Q16. What is a nested dictionary, and give an example of its use case?\n",
        "- In Nested Dictionary, a dictionary contains another dictionary as its value or we can say that a dictionary within a dictionary. Example:- Storing data of multiple students by creating student name as a key and their information (name, age, gender) as another inner dictionary."
      ],
      "metadata": {
        "id": "vEKE5nQWKO-_"
      }
    },
    {
      "cell_type": "markdown",
      "source": [
        "Q17.  Describe the time complexity of accessing elements in a dictionary?\n",
        "- Accessing elements in a dictionary (or hash table) typically has a time complexity of O(1) on average. This means that the time it takes to retrieve a value by its key is, on average, constant and doesn't depend on the size of the dictionary. However, in the worst-case scenario (which is rare), the time complexity can be O(n), where n is the number of elements in the dictionary, due to hash collisions."
      ],
      "metadata": {
        "id": "LZdW3XmiKTF2"
      }
    },
    {
      "cell_type": "markdown",
      "source": [
        "Q19. Why are dictionaries considered unordered, and how does that affect data retrieval?\n",
        "- A dictionary is an unordered collection of objects because dictionaries do not maintain any order of the items based on when they were added. Dictionaries are retrieve values when the key is known."
      ],
      "metadata": {
        "id": "jyDe9GFXKXnd"
      }
    },
    {
      "cell_type": "markdown",
      "source": [
        "Q20. Explain the difference between a list and a dictionary in terms of data retrieval.\n",
        "- A list is an ordered collection of items, whereas a dictionary is an unordered data collection in a key: value pair. Elements from the list can be accessed using the index, while the elements of the dictionary can be accessed using keys."
      ],
      "metadata": {
        "id": "0WE2plfhKYxH"
      }
    },
    {
      "cell_type": "markdown",
      "source": [
        "## **Practical Questions**\n"
      ],
      "metadata": {
        "id": "qn7Ilxy3KdE4"
      }
    },
    {
      "cell_type": "markdown",
      "source": [
        "Q1. Write a code to create a string with your name and print it"
      ],
      "metadata": {
        "id": "hICpqOXaKr9_"
      }
    },
    {
      "cell_type": "code",
      "source": [
        "Name=(\"MANPREET SINGH\")\n",
        "print(Name)\n",
        "type(Name)"
      ],
      "metadata": {
        "colab": {
          "base_uri": "https://localhost:8080/"
        },
        "id": "ooYwff2JKzwY",
        "outputId": "dcdba5f3-6a38-4b26-b7ec-97ad0d310174"
      },
      "execution_count": null,
      "outputs": [
        {
          "output_type": "stream",
          "name": "stdout",
          "text": [
            "MANPREET SINGH\n"
          ]
        },
        {
          "output_type": "execute_result",
          "data": {
            "text/plain": [
              "str"
            ]
          },
          "metadata": {},
          "execution_count": 1
        }
      ]
    },
    {
      "cell_type": "markdown",
      "source": [
        "Q2. Write a code to find the length of the string \"Hello World\"\n",
        "\n",
        "\n"
      ],
      "metadata": {
        "id": "unsz6c5fLNMT"
      }
    },
    {
      "cell_type": "code",
      "source": [
        "a=(\"Hello World\")\n",
        "len(a)"
      ],
      "metadata": {
        "colab": {
          "base_uri": "https://localhost:8080/"
        },
        "id": "miw2aRJ7LFpL",
        "outputId": "809c53a0-798f-461e-8fa6-f8370bde781f"
      },
      "execution_count": null,
      "outputs": [
        {
          "output_type": "execute_result",
          "data": {
            "text/plain": [
              "11"
            ]
          },
          "metadata": {},
          "execution_count": 2
        }
      ]
    },
    {
      "cell_type": "markdown",
      "source": [
        "Q3. Write a code to slice the first 3 characters from the string \"Python Programming\"."
      ],
      "metadata": {
        "id": "J8xenq3ILUPs"
      }
    },
    {
      "cell_type": "code",
      "source": [
        "b=\"Python Programming\"\n",
        "b[0:3]"
      ],
      "metadata": {
        "colab": {
          "base_uri": "https://localhost:8080/",
          "height": 36
        },
        "id": "-6y5DmEPLSI2",
        "outputId": "f42da5dd-ce3d-4c03-dece-fbe60e304d68"
      },
      "execution_count": null,
      "outputs": [
        {
          "output_type": "execute_result",
          "data": {
            "text/plain": [
              "'Pyt'"
            ],
            "application/vnd.google.colaboratory.intrinsic+json": {
              "type": "string"
            }
          },
          "metadata": {},
          "execution_count": 3
        }
      ]
    },
    {
      "cell_type": "markdown",
      "source": [
        "Q4. Write a code to convert the string \"hello\" to uppercase."
      ],
      "metadata": {
        "id": "02kskm_nLkUK"
      }
    },
    {
      "cell_type": "code",
      "source": [
        "hey=\"hello\"\n",
        "hey.upper()"
      ],
      "metadata": {
        "id": "igIDs1p1LrWe"
      },
      "execution_count": null,
      "outputs": []
    },
    {
      "cell_type": "markdown",
      "source": [
        "Q5. Write a code to replace the word \"apple\" with \"orange\" in the string \"I like apple\"."
      ],
      "metadata": {
        "id": "PMf9lN6eLVDK"
      }
    },
    {
      "cell_type": "code",
      "source": [
        "sentence=\"I like apple\"\n",
        "sentence.replace(\"apple\", \"orange\")"
      ],
      "metadata": {
        "colab": {
          "base_uri": "https://localhost:8080/",
          "height": 36
        },
        "id": "f00WlfylLVmu",
        "outputId": "77aec07c-a3f5-412d-d163-9efbd3ee246c"
      },
      "execution_count": null,
      "outputs": [
        {
          "output_type": "execute_result",
          "data": {
            "text/plain": [
              "'I like orange'"
            ],
            "application/vnd.google.colaboratory.intrinsic+json": {
              "type": "string"
            }
          },
          "metadata": {},
          "execution_count": 4
        }
      ]
    },
    {
      "cell_type": "markdown",
      "source": [
        "Q6. Write a code to create a list with numbers 1 to 5 and print it."
      ],
      "metadata": {
        "id": "T5xpC39KMDgs"
      }
    },
    {
      "cell_type": "code",
      "source": [
        "num=[1,2,3,4,5]\n",
        "print(num)"
      ],
      "metadata": {
        "colab": {
          "base_uri": "https://localhost:8080/"
        },
        "id": "cGnfhnb0L4-Q",
        "outputId": "fba0ea82-8f74-4cc0-ac52-9da384a91923"
      },
      "execution_count": null,
      "outputs": [
        {
          "output_type": "stream",
          "name": "stdout",
          "text": [
            "[1, 2, 3, 4, 5]\n"
          ]
        }
      ]
    },
    {
      "cell_type": "markdown",
      "source": [
        "Q7. Write a code to append the number 10 to the list [1, 2, 3, 4]"
      ],
      "metadata": {
        "id": "g56OKfDuMKu8"
      }
    },
    {
      "cell_type": "code",
      "source": [
        "num_1=[1,2,3,4]\n",
        "num_1.append(10)\n",
        "print(num_1)"
      ],
      "metadata": {
        "id": "7Ft1w2H9MKNm"
      },
      "execution_count": null,
      "outputs": []
    },
    {
      "cell_type": "markdown",
      "source": [
        "Q8. Write a code to remove the number 3 from the list [1, 2, 3, 4, 5]"
      ],
      "metadata": {
        "id": "SsYkkeb_MS3a"
      }
    },
    {
      "cell_type": "code",
      "source": [
        "numlist=[1,2,3,4,5]\n",
        "numlist.remove(3)\n",
        "print(numlist)"
      ],
      "metadata": {
        "colab": {
          "base_uri": "https://localhost:8080/"
        },
        "id": "lfba0Bv8MfXl",
        "outputId": "0ef941ba-9055-40e8-88ad-bb9acbdd06bf"
      },
      "execution_count": null,
      "outputs": [
        {
          "output_type": "stream",
          "name": "stdout",
          "text": [
            "[1, 2, 4, 5]\n"
          ]
        }
      ]
    },
    {
      "cell_type": "markdown",
      "source": [
        "Q9. Write a code to access the second element in the list ['a', 'b', 'c', 'd']"
      ],
      "metadata": {
        "id": "5ywJKdcZMbde"
      }
    },
    {
      "cell_type": "code",
      "source": [
        "list_9=['a', 'b', 'c', 'd']\n",
        "list_9[1]"
      ],
      "metadata": {
        "colab": {
          "base_uri": "https://localhost:8080/",
          "height": 36
        },
        "id": "iNrLy1-jMpMu",
        "outputId": "373bde13-6e08-44c6-cc7d-922ef478b5c4"
      },
      "execution_count": null,
      "outputs": [
        {
          "output_type": "execute_result",
          "data": {
            "text/plain": [
              "'b'"
            ],
            "application/vnd.google.colaboratory.intrinsic+json": {
              "type": "string"
            }
          },
          "metadata": {},
          "execution_count": 7
        }
      ]
    },
    {
      "cell_type": "markdown",
      "source": [
        "Q10.  Write a code to reverse the list [10, 20, 30, 40, 50]."
      ],
      "metadata": {
        "id": "9AHcWlxJMvBY"
      }
    },
    {
      "cell_type": "code",
      "source": [
        "list_10=[10,20,30,40,50]\n",
        "list_10.reverse()\n",
        "print(list_10)"
      ],
      "metadata": {
        "colab": {
          "base_uri": "https://localhost:8080/"
        },
        "id": "mRAjvetBMuCq",
        "outputId": "f34f5628-0370-4417-d8b9-f2a8172f5ac7"
      },
      "execution_count": null,
      "outputs": [
        {
          "output_type": "stream",
          "name": "stdout",
          "text": [
            "[50, 40, 30, 20, 10]\n"
          ]
        }
      ]
    },
    {
      "cell_type": "markdown",
      "source": [
        "Q11. Write a code to create a tuple with the elements 100, 200, 300 and print it."
      ],
      "metadata": {
        "id": "UFYg6XwxN11O"
      }
    },
    {
      "cell_type": "code",
      "source": [
        "num_11=(100, 200, 300)\n",
        "print(num_11)\n",
        "type(num_11)"
      ],
      "metadata": {
        "colab": {
          "base_uri": "https://localhost:8080/"
        },
        "id": "qXgStgZYN3c4",
        "outputId": "b1660a1e-2e6e-4c81-ae21-8c184a62a3b6"
      },
      "execution_count": null,
      "outputs": [
        {
          "output_type": "stream",
          "name": "stdout",
          "text": [
            "(100, 200, 300)\n"
          ]
        },
        {
          "output_type": "execute_result",
          "data": {
            "text/plain": [
              "tuple"
            ]
          },
          "metadata": {},
          "execution_count": 9
        }
      ]
    },
    {
      "cell_type": "code",
      "source": [
        "Q12. Write a code to access the second-to-last element of the tuple ('red', 'green', 'blue', 'yellow')."
      ],
      "metadata": {
        "id": "uaLQyvLGN_SA"
      },
      "execution_count": null,
      "outputs": []
    },
    {
      "cell_type": "code",
      "source": [
        "tuple_12=('red', 'green', 'blue', 'yellow')\n",
        "tuple_12[-2]"
      ],
      "metadata": {
        "colab": {
          "base_uri": "https://localhost:8080/",
          "height": 36
        },
        "id": "VRWkJflrOJ_A",
        "outputId": "568e8a1a-667e-425e-8cbd-022bc4fd3b33"
      },
      "execution_count": null,
      "outputs": [
        {
          "output_type": "execute_result",
          "data": {
            "text/plain": [
              "'blue'"
            ],
            "application/vnd.google.colaboratory.intrinsic+json": {
              "type": "string"
            }
          },
          "metadata": {},
          "execution_count": 10
        }
      ]
    },
    {
      "cell_type": "markdown",
      "source": [
        "Q13. Write a code to find the minimum number in the tuple (10, 20, 5, 15)."
      ],
      "metadata": {
        "id": "yExcmTUNOVbc"
      }
    },
    {
      "cell_type": "code",
      "source": [
        "num_13=(10, 20, 5, 15)\n",
        "min(num_13)"
      ],
      "metadata": {
        "id": "ioyESujDOTph"
      },
      "execution_count": null,
      "outputs": []
    },
    {
      "cell_type": "markdown",
      "source": [
        "Q14. Write a code to find the index of the element \"cat\" in the tuple ('dog', 'cat', 'rabbit')."
      ],
      "metadata": {
        "id": "0EBVkZ2lOtX2"
      }
    },
    {
      "cell_type": "code",
      "source": [
        "tuple_14= ('dog', 'cat', 'rabbit')\n",
        "tuple_14.index(\"cat\")"
      ],
      "metadata": {
        "colab": {
          "base_uri": "https://localhost:8080/"
        },
        "id": "C2Yb9-ZYOvvH",
        "outputId": "b3bbcd14-dc71-466e-9bf7-50cbf0efdff7"
      },
      "execution_count": null,
      "outputs": [
        {
          "output_type": "execute_result",
          "data": {
            "text/plain": [
              "1"
            ]
          },
          "metadata": {},
          "execution_count": 11
        }
      ]
    },
    {
      "cell_type": "markdown",
      "source": [
        "Q15. Write a code to create a tuple containing three different fruits and check if \"kiwi\" is in it."
      ],
      "metadata": {
        "id": "L6EPWjjGO2MY"
      }
    },
    {
      "cell_type": "code",
      "source": [
        "tuple_15=('apple', 'grapes', 'kiwi')\n",
        "\"kiwi\" in tuple_15"
      ],
      "metadata": {
        "colab": {
          "base_uri": "https://localhost:8080/"
        },
        "id": "pbr0fCtuO1nO",
        "outputId": "e41de354-8654-49e5-f144-fe71badfd9ee"
      },
      "execution_count": null,
      "outputs": [
        {
          "output_type": "execute_result",
          "data": {
            "text/plain": [
              "True"
            ]
          },
          "metadata": {},
          "execution_count": 12
        }
      ]
    },
    {
      "cell_type": "markdown",
      "source": [
        "Q16. Write a code to create a set with the elements 'a', 'b', 'c' and print it."
      ],
      "metadata": {
        "id": "lJSvNf4GPLGs"
      }
    },
    {
      "cell_type": "code",
      "source": [
        "set_16={'a', 'b', 'c'}\n",
        "print(set_16)\n",
        "type(set_16)"
      ],
      "metadata": {
        "colab": {
          "base_uri": "https://localhost:8080/"
        },
        "id": "AKnwNs_DPEGk",
        "outputId": "97dedd20-f68d-45a9-cb97-95b8ac7346b7"
      },
      "execution_count": null,
      "outputs": [
        {
          "output_type": "stream",
          "name": "stdout",
          "text": [
            "{'a', 'b', 'c'}\n"
          ]
        },
        {
          "output_type": "execute_result",
          "data": {
            "text/plain": [
              "set"
            ]
          },
          "metadata": {},
          "execution_count": 15
        }
      ]
    },
    {
      "cell_type": "markdown",
      "source": [
        "Q17. Write a code to clear all elements from the set {1, 2, 3, 4, 5}."
      ],
      "metadata": {
        "id": "v01YbLT1PfIW"
      }
    },
    {
      "cell_type": "code",
      "source": [
        "set_17={1, 2, 3, 4, 5}\n",
        "set_17.clear()\n",
        "print(set_17)"
      ],
      "metadata": {
        "colab": {
          "base_uri": "https://localhost:8080/"
        },
        "id": "twBWL9vmPd-N",
        "outputId": "3b11f15b-50eb-402c-eb76-0e6c0657528d"
      },
      "execution_count": null,
      "outputs": [
        {
          "output_type": "stream",
          "name": "stdout",
          "text": [
            "set()\n"
          ]
        }
      ]
    },
    {
      "cell_type": "markdown",
      "source": [
        "Q18. Write a code to remove the element 4 from the set {1, 2, 3, 4}."
      ],
      "metadata": {
        "id": "RKKKUoyPPyji"
      }
    },
    {
      "cell_type": "code",
      "source": [
        "set_18={1, 2, 3, 4}\n",
        "set_18.remove(4)\n",
        "print(set_18)"
      ],
      "metadata": {
        "colab": {
          "base_uri": "https://localhost:8080/"
        },
        "id": "NAcJcMrAPsLX",
        "outputId": "8bda422a-554d-47ad-efd2-1b06a4140205"
      },
      "execution_count": null,
      "outputs": [
        {
          "output_type": "stream",
          "name": "stdout",
          "text": [
            "{1, 2, 3}\n"
          ]
        }
      ]
    },
    {
      "cell_type": "markdown",
      "source": [
        "Q19. Write a code to find the union of two sets {1, 2, 3} and {3, 4, 5}."
      ],
      "metadata": {
        "id": "x0Hga4F_P-W8"
      }
    },
    {
      "cell_type": "code",
      "source": [
        "set_19_1={1, 2, 3}\n",
        "set_19_2={3, 4, 5}\n",
        "set_19_1 | set_19_2"
      ],
      "metadata": {
        "colab": {
          "base_uri": "https://localhost:8080/"
        },
        "id": "HnwH-OXGP9Uv",
        "outputId": "e81a398b-12f0-4dbe-e6ed-e09e67ddc011"
      },
      "execution_count": null,
      "outputs": [
        {
          "output_type": "execute_result",
          "data": {
            "text/plain": [
              "{1, 2, 3, 4, 5}"
            ]
          },
          "metadata": {},
          "execution_count": 18
        }
      ]
    },
    {
      "cell_type": "markdown",
      "source": [
        "Q20. Write a code to find the intersection of two sets {1, 2, 3} and {2, 3, 4}."
      ],
      "metadata": {
        "id": "AEpabiUXQQWk"
      }
    },
    {
      "cell_type": "code",
      "source": [
        "set_20_1={1, 2, 3}\n",
        "set_20_2={2, 3, 4}\n",
        "set_20_1 & set_20_2"
      ],
      "metadata": {
        "colab": {
          "base_uri": "https://localhost:8080/"
        },
        "id": "t0cvuhdzQPTO",
        "outputId": "da59e4ce-527d-478b-b9ce-34628e99d7c1"
      },
      "execution_count": null,
      "outputs": [
        {
          "output_type": "execute_result",
          "data": {
            "text/plain": [
              "{2, 3}"
            ]
          },
          "metadata": {},
          "execution_count": 19
        }
      ]
    },
    {
      "cell_type": "markdown",
      "source": [
        "Q21. Write a code to create a dictionary with the keys \"name\", \"age\", and \"city\", and print it."
      ],
      "metadata": {
        "id": "TgMXX2RrQgzd"
      }
    },
    {
      "cell_type": "code",
      "source": [
        "dict_21={'name':'Manpreet singh', 'age':22, 'city':'Batala'}\n",
        "print(dict_21)\n",
        "type(dict_21)"
      ],
      "metadata": {
        "colab": {
          "base_uri": "https://localhost:8080/"
        },
        "id": "h--nck56QOCH",
        "outputId": "b42b21b3-789d-4937-d60f-5dc502402bb1"
      },
      "execution_count": null,
      "outputs": [
        {
          "output_type": "stream",
          "name": "stdout",
          "text": [
            "{'name': 'Manpreet singh', 'age': 22, 'city': 'Batala'}\n"
          ]
        },
        {
          "output_type": "execute_result",
          "data": {
            "text/plain": [
              "dict"
            ]
          },
          "metadata": {},
          "execution_count": 30
        }
      ]
    },
    {
      "cell_type": "markdown",
      "source": [
        "Q22. Write a code to add a new key-value pair \"country\": \"USA\" to the dictionary {'name': 'John', 'age': 25}."
      ],
      "metadata": {
        "id": "NPA1-M_OQwO6"
      }
    },
    {
      "cell_type": "code",
      "source": [
        "dict_22={'name':'Manpreet', 'age':22}\n",
        "dict_22['country']='USA'\n",
        "print(dict_22)"
      ],
      "metadata": {
        "colab": {
          "base_uri": "https://localhost:8080/"
        },
        "id": "9i2shDLkQ5gg",
        "outputId": "e734de6b-70b0-46f1-c931-ae6ef91c9973"
      },
      "execution_count": null,
      "outputs": [
        {
          "output_type": "stream",
          "name": "stdout",
          "text": [
            "{'name': 'Manpreet', 'age': 22, 'country': 'USA'}\n"
          ]
        }
      ]
    },
    {
      "cell_type": "markdown",
      "source": [
        "Q23. Write a code to access the value associated with the key \"name\" in the dictionary {'name': 'Alice', 'age': 30}."
      ],
      "metadata": {
        "id": "1M0nmzCJRCX2"
      }
    },
    {
      "cell_type": "code",
      "source": [
        "dict_23={'name':'ALICE', 'AGE':30}\n",
        "dict_23[\"name\"]"
      ],
      "metadata": {
        "colab": {
          "base_uri": "https://localhost:8080/",
          "height": 36
        },
        "id": "2aMurMkLQ-bd",
        "outputId": "e2c2b6e1-bee1-45ec-cb73-7f2454ba0a36"
      },
      "execution_count": null,
      "outputs": [
        {
          "output_type": "execute_result",
          "data": {
            "text/plain": [
              "'ALICE'"
            ],
            "application/vnd.google.colaboratory.intrinsic+json": {
              "type": "string"
            }
          },
          "metadata": {},
          "execution_count": 21
        }
      ]
    },
    {
      "cell_type": "markdown",
      "source": [
        "Q24. Write a code to remove the key \"age\" from the dictionary {'name': 'Bob', 'age': 22, 'city': 'New York'}."
      ],
      "metadata": {
        "id": "VifrxhNHROlu"
      }
    },
    {
      "cell_type": "code",
      "source": [
        "dict_24={'name': 'Bob', 'age': 22, 'city': 'New York'}\n",
        "del dict_24['age']\n",
        "print(dict_24)"
      ],
      "metadata": {
        "colab": {
          "base_uri": "https://localhost:8080/"
        },
        "id": "eha5DrjWROOo",
        "outputId": "671a729e-1b88-4c8e-9f87-34f67abefd90"
      },
      "execution_count": null,
      "outputs": [
        {
          "output_type": "stream",
          "name": "stdout",
          "text": [
            "{'name': 'Bob', 'city': 'New York'}\n"
          ]
        }
      ]
    },
    {
      "cell_type": "markdown",
      "source": [
        "Q25. Write a code to check if the key \"city\" exists in the dictionary {'name': 'Alice', 'city': 'Paris'}."
      ],
      "metadata": {
        "id": "qoKFbOUQRpGU"
      }
    },
    {
      "cell_type": "code",
      "source": [
        "dict_25={'name': 'Alice', 'city': 'Paris'}\n",
        "'city' in dict_25"
      ],
      "metadata": {
        "colab": {
          "base_uri": "https://localhost:8080/"
        },
        "id": "PyWnnXXCRozp",
        "outputId": "90cbb2d1-5b52-492a-8237-1ad20d98fadd"
      },
      "execution_count": null,
      "outputs": [
        {
          "output_type": "execute_result",
          "data": {
            "text/plain": [
              "True"
            ]
          },
          "metadata": {},
          "execution_count": 23
        }
      ]
    },
    {
      "cell_type": "markdown",
      "source": [
        "Q26. Write a code to create a list, a tuple, and a dictionary, and print them all."
      ],
      "metadata": {
        "id": "wlN0WA2iSM6o"
      }
    },
    {
      "cell_type": "code",
      "source": [
        "list_26=['Manpreet', False, 100]\n",
        "tuple_26=('Manpreet', True, 3.9)\n",
        "dict_26={'Name':'Manpreet', 'Age':22, 'City':'Batala'}\n",
        "print(list_26)\n",
        "print(tuple_26)\n",
        "print(dict_26)"
      ],
      "metadata": {
        "colab": {
          "base_uri": "https://localhost:8080/"
        },
        "id": "Hf0tvxuISEEO",
        "outputId": "1c08c95f-75d4-4c18-f4dd-d64d4d799b27"
      },
      "execution_count": null,
      "outputs": [
        {
          "output_type": "stream",
          "name": "stdout",
          "text": [
            "['Manpreet', False, 100]\n",
            "('Manpreet', True, 3.9)\n",
            "{'Name': 'Manpreet', 'Age': 22, 'City': 'Batala'}\n"
          ]
        }
      ]
    },
    {
      "cell_type": "markdown",
      "source": [
        "Q27. Write a code to create a list of 5 random numbers between 1 and 100, sort it in ascending order, and print the result.(replaced)"
      ],
      "metadata": {
        "id": "RA8oWxaaSSyW"
      }
    },
    {
      "cell_type": "code",
      "source": [
        "list_27=[22, 45, 1, 89, 99]\n",
        "list_27.sort()\n",
        "print(list_27)"
      ],
      "metadata": {
        "colab": {
          "base_uri": "https://localhost:8080/"
        },
        "id": "oCEcKq_Bh1CQ",
        "outputId": "120fbc76-0039-42e6-c84f-6410aff78af6"
      },
      "execution_count": null,
      "outputs": [
        {
          "output_type": "stream",
          "name": "stdout",
          "text": [
            "[1, 22, 45, 89, 99]\n"
          ]
        }
      ]
    },
    {
      "cell_type": "markdown",
      "source": [
        "Q28. Write a code to create a list with strings and print the element at the third index."
      ],
      "metadata": {
        "id": "cHCwSNKpShja"
      }
    },
    {
      "cell_type": "code",
      "source": [
        "list_28=['Car', 'Bike', 'Bus', 'Truck', 'Cycle']\n",
        "list_28[2]"
      ],
      "metadata": {
        "colab": {
          "base_uri": "https://localhost:8080/",
          "height": 36
        },
        "id": "vKf0YImuSnPW",
        "outputId": "468026ed-a070-4b69-bf34-e63fe9ef7a52"
      },
      "execution_count": null,
      "outputs": [
        {
          "output_type": "execute_result",
          "data": {
            "text/plain": [
              "'Bus'"
            ],
            "application/vnd.google.colaboratory.intrinsic+json": {
              "type": "string"
            }
          },
          "metadata": {},
          "execution_count": 25
        }
      ]
    },
    {
      "cell_type": "markdown",
      "source": [
        "Q29. Write a code to combine two dictionaries into one and print the result."
      ],
      "metadata": {
        "id": "rIpXMisFSuK8"
      }
    },
    {
      "cell_type": "code",
      "source": [
        "dict_29_1={'a':1, 'b':2}\n",
        "dict_29_2={'c':3, 'd':4}\n",
        "dict_29_1.update(dict_29_2)\n",
        "print(dict_29_1)"
      ],
      "metadata": {
        "colab": {
          "base_uri": "https://localhost:8080/"
        },
        "id": "ivtRef7MSsof",
        "outputId": "72435ef4-8f7d-4a92-bda7-5ef42c3a09d9"
      },
      "execution_count": null,
      "outputs": [
        {
          "output_type": "stream",
          "name": "stdout",
          "text": [
            "{'a': 1, 'b': 2, 'c': 3, 'd': 4}\n"
          ]
        }
      ]
    },
    {
      "cell_type": "markdown",
      "source": [
        "Q30. Write a code to convert a list of strings into a set."
      ],
      "metadata": {
        "id": "W_4CRQtnS-c3"
      }
    },
    {
      "cell_type": "code",
      "source": [
        "list_30=['Boy', 'Girl', 'Man', 'Woman', 'Boy', 'Man']\n",
        "set(list_30)"
      ],
      "metadata": {
        "colab": {
          "base_uri": "https://localhost:8080/"
        },
        "id": "olgrmXj5S7aX",
        "outputId": "a2d890b4-dfd4-4c06-af04-0e489559b013"
      },
      "execution_count": null,
      "outputs": [
        {
          "output_type": "execute_result",
          "data": {
            "text/plain": [
              "{'Boy', 'Girl', 'Man', 'Woman'}"
            ]
          },
          "metadata": {},
          "execution_count": 27
        }
      ]
    }
  ]
}