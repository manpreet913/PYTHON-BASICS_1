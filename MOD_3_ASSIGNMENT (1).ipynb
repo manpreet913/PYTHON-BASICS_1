{
  "nbformat": 4,
  "nbformat_minor": 0,
  "metadata": {
    "colab": {
      "provenance": []
    },
    "kernelspec": {
      "name": "python3",
      "display_name": "Python 3"
    },
    "language_info": {
      "name": "python"
    }
  },
  "cells": [
    {
      "cell_type": "markdown",
      "source": [
        "# Python Basics"
      ],
      "metadata": {
        "id": "t28f7zC0UJC9"
      }
    },
    {
      "cell_type": "markdown",
      "source": [
        "## **Theoritical Questions**\n",
        "\n"
      ],
      "metadata": {
        "id": "3bk8r6JkUlnC"
      }
    },
    {
      "cell_type": "markdown",
      "source": [
        "Q1. What is Python, and why is it popular?\n",
        "\n",
        " - Python is a programming language that is easy to understand and write. It is very popular among developers and programmers as it has extensive liberaries and large number of active community of developers.\n",
        "\n",
        "Q2. What is an interpreter in Python?\n",
        "\n",
        " - An interpreter in Python is a program that runs python codes line by line without compilation.\n",
        "\n",
        "Q3. What are pre-defined keywords in Python?\n",
        "\n",
        " - Pre-defined keywords are reserved words in python that have special meaning and cannot be used as variables, functions, etc...\n",
        "\n",
        "Q4. Can keywords be used as variable names?\n",
        "\n",
        " - NO, keywords cannot be used as variable names because if we assign variable with keyword, and after we use that same as keyword in same code, it will throw error.\n",
        "\n",
        "Q5. What is mutability in Python?\n",
        "\n",
        " - Mutability in python object can be changable and modified after creation. For example:- Lists and dictionaries.\n",
        "\n",
        "Q6 Why are lists mutable, but tuples are immutable?\n",
        "\n",
        " - Once the list is created, it is changable and modified where as size and values of elements in tuples are fixed after creation.\n",
        "\n",
        "Q7. What is the difference between “==” and “is” operators in Python/\n",
        "\n",
        " - \"==\" operator is used for comparision of two values where as \"is\" operator is used to check the identity of two values. The output result in both the operators is a 'Boolean Value'.\n",
        "\n",
        "Q8. What are logical operators in Python?\n",
        "\n",
        " - Logical operators are \"And / Or/ Not\" operators which gives the output as Boolean value.\n",
        "\n",
        "Q9. What is type casting in Python?\n",
        "\n",
        " - Type castinfg in python is the process of changing one data type to another.\n",
        "\n",
        "Q10. What is the difference between implicit and explicit type casting?\n",
        "\n",
        " - In implicit typecasting, python understand the data type and run the code automatically where as explicit typecasting converts data type using inbuilt functions.\n",
        "\n",
        "Q11. What is the purpose of conditional statements in Python?\n",
        "\n",
        " - Conditional statement helps you to code decision based on some precondition.\n",
        "\n",
        "Q12. How does the elif statement work?\n",
        "\n",
        " - When you write conditional statement and if \"if\" statement does not execute, the next i.e. the \"elif\" statement will executes if it is true as per the condition given.\n",
        "\n",
        "Q13. What is the difference between for and while loops?\n",
        "\n",
        " - In \"for\" loop, the code is executed as per the specific number of iterations where as in \"while\" loop the iterations keep executing until the condition being met.\n",
        "\n",
        "Q14. Describe a scenario where a while loop is more suitable than a for loop?\n",
        "\n",
        " - In a Fixtures of Matches, when you want to know the total number of matches in a tournament, you can input the code with \"while\" loop instead of \"for\" loop.\n"
      ],
      "metadata": {
        "id": "YmuVPgbCWT40"
      }
    },
    {
      "cell_type": "markdown",
      "source": [
        "##**Practical Questions**"
      ],
      "metadata": {
        "id": "5qI5UuEPZ_1v"
      }
    },
    {
      "cell_type": "markdown",
      "source": [
        "Q1. Write a Python program to print \"Hello, World!\"?"
      ],
      "metadata": {
        "id": "20JiML1FaVcJ"
      }
    },
    {
      "cell_type": "code",
      "source": [
        "print(\"Hello, World\")"
      ],
      "metadata": {
        "colab": {
          "base_uri": "https://localhost:8080/"
        },
        "id": "1oqtAiE9aZru",
        "outputId": "091f5315-23de-40ea-d794-6da0a87cbded"
      },
      "execution_count": null,
      "outputs": [
        {
          "output_type": "stream",
          "name": "stdout",
          "text": [
            "Hello, World\n"
          ]
        }
      ]
    },
    {
      "cell_type": "markdown",
      "source": [
        "Q2. Write a Python program that displays your name and age?"
      ],
      "metadata": {
        "id": "UchL8_Lqagzz"
      }
    },
    {
      "cell_type": "code",
      "source": [
        "Name= (\"Manpreet Singh\")\n",
        "Age=(22)\n",
        "print(\"My Name is \", Name)\n",
        "print(\"My Age is \", Age)"
      ],
      "metadata": {
        "colab": {
          "base_uri": "https://localhost:8080/"
        },
        "id": "njdOh_E1adV5",
        "outputId": "0722cddc-bb17-4107-b50b-812797263d52"
      },
      "execution_count": null,
      "outputs": [
        {
          "output_type": "stream",
          "name": "stdout",
          "text": [
            "My Name is  Manpreet Singh\n",
            "My Age is  22\n"
          ]
        }
      ]
    },
    {
      "cell_type": "markdown",
      "source": [
        "Q3. Write code to print all the pre-defined keywords in Python using the keyword library."
      ],
      "metadata": {
        "id": "BJ3Qp6FXfG03"
      }
    },
    {
      "cell_type": "code",
      "source": [
        "import keyword\n",
        "print(keyword.kwlist)"
      ],
      "metadata": {
        "colab": {
          "base_uri": "https://localhost:8080/"
        },
        "id": "1IFwj5i2a5Zj",
        "outputId": "710bd484-6c21-488b-a291-2e22844d9e14"
      },
      "execution_count": null,
      "outputs": [
        {
          "output_type": "stream",
          "name": "stdout",
          "text": [
            "['False', 'None', 'True', 'and', 'as', 'assert', 'async', 'await', 'break', 'class', 'continue', 'def', 'del', 'elif', 'else', 'except', 'finally', 'for', 'from', 'global', 'if', 'import', 'in', 'is', 'lambda', 'nonlocal', 'not', 'or', 'pass', 'raise', 'return', 'try', 'while', 'with', 'yield']\n"
          ]
        }
      ]
    },
    {
      "cell_type": "markdown",
      "source": [
        "Q4. Write a program that checks if a given word is a Python keyword."
      ],
      "metadata": {
        "id": "dwyDKrx7bJ6D"
      }
    },
    {
      "cell_type": "code",
      "source": [
        "import keyword\n",
        "word = input(\"Enter any Keyword: \")\n",
        "if word in keyword.kwlist:\n",
        "  print(\"This is a Keyword\")\n",
        "else:\n",
        "  print(\"This is not a keyword\")"
      ],
      "metadata": {
        "colab": {
          "base_uri": "https://localhost:8080/"
        },
        "id": "EycLXqQ6bKXa",
        "outputId": "f5694d79-276c-49f8-d13e-b8e7a633d8c6"
      },
      "execution_count": null,
      "outputs": [
        {
          "output_type": "stream",
          "name": "stdout",
          "text": [
            "Enter any Keyword: true\n",
            "This is not a keyword\n"
          ]
        }
      ]
    },
    {
      "cell_type": "markdown",
      "source": [
        "Q5. Create a list and tuple in Python, and demonstrate how attempting to change an element works differently for each.\n",
        "\n",
        "\n"
      ],
      "metadata": {
        "id": "1TfwF8JEbK7Q"
      }
    },
    {
      "cell_type": "code",
      "source": [
        "A=[1,8,\"My_name\", True, 4.5, \"etc\"]\n",
        "B=(7, False, \"My_City\", 9.2, \"Anything\")\n",
        "print(\"A is \", A)\n",
        "print(type(A))\n",
        "a= input(\"Change the 3rd Element of List 'A' :   \")\n",
        "A[3]=a\n",
        "print( A)\n",
        "print(\"\\n LIST IS MUTIBLE OR CHANGABLE.\")\n",
        "\n",
        "print(\"\\n\\n B is \", B)\n",
        "print(type(B))\n",
        "b= input(\"Lets Change the 4th Element of List 'B' :   \")\n",
        "B[4]==b\n",
        "if B[4] == b:\n",
        "  print(\"Tuples are Mutable and Can Changable\")\n",
        "else:\n",
        "  print(\"\\n ERROR.\")\n",
        "  print(\"\\n TUPLES ARE IMMUTIBLE AND CANNOT BE CHANGABLE.\")"
      ],
      "metadata": {
        "colab": {
          "base_uri": "https://localhost:8080/"
        },
        "id": "POC5_RNJbLnI",
        "outputId": "44ec3f50-5127-4ab0-a6d9-99415d8e69ab"
      },
      "execution_count": null,
      "outputs": [
        {
          "output_type": "stream",
          "name": "stdout",
          "text": [
            "A is  [1, 8, 'My_name', True, 4.5, 'etc']\n",
            "<class 'list'>\n",
            "Change the 3rd Element of List 'A' :   QWERTY\n",
            "[1, 8, 'My_name', 'QWERTY', 4.5, 'etc']\n",
            "\n",
            " LIST IS MUTIBLE OR CHANGABLE.\n",
            "\n",
            "\n",
            " B is  (7, False, 'My_City', 9.2, 'Anything')\n",
            "<class 'tuple'>\n",
            "Lets Change the 4th Element of List 'B' :   QWERTY\n",
            "\n",
            " ERROR.\n",
            "\n",
            " TUPLES ARE IMMUTIBLE AND CANNOT BE CHANGABLE.\n"
          ]
        }
      ]
    },
    {
      "cell_type": "markdown",
      "source": [
        "Q6. Write a function to demonstrate the behavior of mutable and immutable arguments."
      ],
      "metadata": {
        "id": "dJxg-s7Jm4C1"
      }
    },
    {
      "cell_type": "code",
      "source": [
        "a = 5\n",
        "lst = [1, 2, 3]\n",
        "def change_values(a, lst):\n",
        "    a += 5\n",
        "    lst.append(4)\n",
        "change_values(a, lst)\n",
        "print(a)\n",
        "print(lst)"
      ],
      "metadata": {
        "colab": {
          "base_uri": "https://localhost:8080/"
        },
        "id": "E2aG_wOMk0hA",
        "outputId": "e2949118-b6d8-4b27-9f71-e6575d3f16db"
      },
      "execution_count": null,
      "outputs": [
        {
          "output_type": "stream",
          "name": "stdout",
          "text": [
            "5\n",
            "[1, 2, 3, 4]\n"
          ]
        }
      ]
    },
    {
      "cell_type": "markdown",
      "source": [
        "Q7. Write a program that performs basic arithmetic operations on two user-input numbers."
      ],
      "metadata": {
        "id": "uJ6mvfaYoLOL"
      }
    },
    {
      "cell_type": "code",
      "source": [
        "a = int(input(\"enter a number: \"))\n",
        "b = int(input(\"enter a number: \"))\n",
        "print(\"Sum of\",(a), \"and\", (b), \"is: \", (a+b))\n",
        "print(\"Subtraction of\",(a), \"and\", (b), \"is: \", (b-a))\n",
        "print(\"Multiplication of\",(a), \"and\", (b), \"is: \", (a*b))\n",
        "print(\"Division of\",(a), \"by\", (b), \"is: \", (a/b))"
      ],
      "metadata": {
        "colab": {
          "base_uri": "https://localhost:8080/"
        },
        "id": "2bGQ9Kr-oJTy",
        "outputId": "658d27c2-e2ad-4790-a5b4-5a402ce3d996"
      },
      "execution_count": null,
      "outputs": [
        {
          "output_type": "stream",
          "name": "stdout",
          "text": [
            "enter a number: 22\n",
            "enter a number: 33\n",
            "Sum of 22 and 33 is:  55\n",
            "Subtraction of 22 and 33 is:  11\n",
            "Multiplication of 22 and 33 is:  726\n",
            "Division of 22 by 33 is:  0.6666666666666666\n"
          ]
        }
      ]
    },
    {
      "cell_type": "markdown",
      "source": [
        "Q8. Write a program to demonstrate the use of logical operators."
      ],
      "metadata": {
        "id": "zfaS3X2kom51"
      }
    },
    {
      "cell_type": "code",
      "source": [
        "#PROMOTION TO NEXT CLASS\n",
        "total_marks=int(input(\"Enter Total Marks:  \"))\n",
        "Attended_max_classses =True\n",
        "Not_Paid_Fees=False\n",
        "\n",
        "#Logical Operator \"AND\"\n",
        "if total_marks>=35 and Attended_max_classses:\n",
        "  print(\"The Student is Promoted\")\n",
        "else:\n",
        "  print(\"The Student needs to Repeat the Class\")\n",
        "\n",
        "  #logical Operator \"OR\"\n",
        "if total_marks>=35 or Not_Paid_Fees:\n",
        "  print(\"Clear the Previou Dues for Promotion\")\n",
        "elif total_marks<=34:\n",
        "  print(\"The Student needs to Repeat the Class\")\n",
        "else:\n",
        "  print(\"The Student is Promoted\")\n",
        "\n",
        "  #Logical Operator \"NOT\"\n",
        "if  not Attended_max_classses:\n",
        "  print(\"Give a Logical Reason with Proof?\")\n",
        "elif total_marks<=34:\n",
        "  print(\"The Student needs to Repeat the Class\")\n",
        "else:\n",
        "  print(\"The Student is Promoted\")\n"
      ],
      "metadata": {
        "colab": {
          "base_uri": "https://localhost:8080/"
        },
        "id": "PUh1lJc9oajV",
        "outputId": "9acae817-e21e-469e-f559-d6aabfe6483b"
      },
      "execution_count": null,
      "outputs": [
        {
          "output_type": "stream",
          "name": "stdout",
          "text": [
            "Enter Total Marks:  38\n",
            "The Student is Promoted\n",
            "Clear the Previou Dues for Promotion\n",
            "The Student is Promoted\n"
          ]
        }
      ]
    },
    {
      "cell_type": "markdown",
      "source": [
        "Q9. Write a Python program to convert user input from string to integer, float, and boolean types.\n"
      ],
      "metadata": {
        "id": "EAoF6_EWqERE"
      }
    },
    {
      "cell_type": "code",
      "source": [
        "#I coded for numbes only because variable will never converted into integer and float and due to this, the output will throw error.\n",
        "a=str(input(\"Enter a Number:  \"))\n",
        "print(\"\\n\",str(a) )\n",
        "print(\"The number\",(a), \"is in String type\")\n",
        "print(type(str(a)))\n",
        "print(\"\\n\", int(a))\n",
        "print(\"The number\",(a), \"is in Integer type\")\n",
        "print(type(int(a)))\n",
        "print(\"\\n\", float(a))\n",
        "print(\"The number\",(a), \"is in Float type\")\n",
        "print(type(float(a)))\n",
        "print(\"\\n\", bool(a))\n",
        "print(\"The number\",(a), \"is in Boolean type\")\n",
        "print(type(bool(a)))"
      ],
      "metadata": {
        "colab": {
          "base_uri": "https://localhost:8080/"
        },
        "id": "_jWdgrgjqNOx",
        "outputId": "47b49e8d-90c1-4a1e-f74b-5b47babc6b61"
      },
      "execution_count": null,
      "outputs": [
        {
          "output_type": "stream",
          "name": "stdout",
          "text": [
            "Enter a Number:  7\n",
            "\n",
            " 7\n",
            "The number 7 is in String type\n",
            "<class 'str'>\n",
            "\n",
            " 7\n",
            "The number 7 is in Integer type\n",
            "<class 'int'>\n",
            "\n",
            " 7.0\n",
            "The number 7 is in Float type\n",
            "<class 'float'>\n",
            "\n",
            " True\n",
            "The number 7 is in Boolean type\n",
            "<class 'bool'>\n"
          ]
        }
      ]
    },
    {
      "cell_type": "markdown",
      "source": [
        "Q10.  Write code to demonstrate type casting with list elements.\n"
      ],
      "metadata": {
        "id": "1TOLZWtTqeI1"
      }
    },
    {
      "cell_type": "code",
      "source": [
        "#type casting list element of a float element into integer.\n",
        "a_list = [\"qwerty\", \"Cat\", 56 , 9.6, True]\n",
        "a_list[3] = int(a_list[3])\n",
        "print(a_list[3])\n"
      ],
      "metadata": {
        "colab": {
          "base_uri": "https://localhost:8080/"
        },
        "id": "56tpzZA2qRhG",
        "outputId": "936f7343-f291-4a9c-ba34-58ee7c00399f"
      },
      "execution_count": null,
      "outputs": [
        {
          "output_type": "stream",
          "name": "stdout",
          "text": [
            "9\n"
          ]
        }
      ]
    },
    {
      "cell_type": "markdown",
      "source": [
        "Q11. Write a program that checks if a number is positive, negative, or zero."
      ],
      "metadata": {
        "id": "FzddCDXJqrps"
      }
    },
    {
      "cell_type": "code",
      "source": [
        "n=int(input(\"Enter any Number:  \"))\n",
        "if n>=1:\n",
        "  print(\"The Number is Positive\")\n",
        "elif n<=-1:\n",
        "  print(\"The Number is Negative\")\n",
        "else:\n",
        "  print(\"The Number is Zero\")"
      ],
      "metadata": {
        "colab": {
          "base_uri": "https://localhost:8080/"
        },
        "id": "MAwou4kKqoDI",
        "outputId": "96845c9b-f1e3-402f-c0da-8cacf07e55d3"
      },
      "execution_count": null,
      "outputs": [
        {
          "output_type": "stream",
          "name": "stdout",
          "text": [
            "Enter any Number:  10\n",
            "The Number is Positive\n"
          ]
        }
      ]
    },
    {
      "cell_type": "code",
      "source": [
        "Q12. Write a for loop to print numbers from 1 to 10."
      ],
      "metadata": {
        "id": "wqJovvgAq28e"
      },
      "execution_count": null,
      "outputs": []
    },
    {
      "cell_type": "code",
      "source": [
        "for a in range(1,11):\n",
        "  print(a)"
      ],
      "metadata": {
        "colab": {
          "base_uri": "https://localhost:8080/"
        },
        "id": "TPQN43h9rLEl",
        "outputId": "cd18f327-4a95-45f3-de48-415c894075a5"
      },
      "execution_count": null,
      "outputs": [
        {
          "output_type": "stream",
          "name": "stdout",
          "text": [
            "1\n",
            "2\n",
            "3\n",
            "4\n",
            "5\n",
            "6\n",
            "7\n",
            "8\n",
            "9\n",
            "10\n"
          ]
        }
      ]
    },
    {
      "cell_type": "markdown",
      "source": [
        "Q13. Write a Python program to find the sum of all even numbers between 1 and 50."
      ],
      "metadata": {
        "id": "2K1PxLTVrmwD"
      }
    },
    {
      "cell_type": "code",
      "source": [
        "sum=0\n",
        "for i in range(1,51,2):\n",
        "  sum+=i\n",
        "print(sum)"
      ],
      "metadata": {
        "colab": {
          "base_uri": "https://localhost:8080/"
        },
        "id": "fah9CgSlrgGt",
        "outputId": "3fa934fc-acd3-486a-a87b-47aae1d6ac1e"
      },
      "execution_count": null,
      "outputs": [
        {
          "output_type": "stream",
          "name": "stdout",
          "text": [
            "625\n"
          ]
        }
      ]
    },
    {
      "cell_type": "markdown",
      "source": [
        "Q14. Write a program to reverse a string using a while loop."
      ],
      "metadata": {
        "id": "H2P5fuHdryC0"
      }
    },
    {
      "cell_type": "code",
      "source": [
        "reverse = input(\"enter a string: \")\n",
        "while reverse:\n",
        "    print(reverse[-1])\n",
        "    reverse = reverse[:-1]"
      ],
      "metadata": {
        "colab": {
          "base_uri": "https://localhost:8080/"
        },
        "id": "BaA4VOoHrs4l",
        "outputId": "eff92571-52b9-469d-ee96-aff657270d92"
      },
      "execution_count": null,
      "outputs": [
        {
          "output_type": "stream",
          "name": "stdout",
          "text": [
            "enter a string: QWERTY\n",
            "Y\n",
            "T\n",
            "R\n",
            "E\n",
            "W\n",
            "Q\n"
          ]
        }
      ]
    },
    {
      "cell_type": "markdown",
      "source": [
        "Q15. Write a Python program to calculate the factorial of a number provided by the user using a while loop."
      ],
      "metadata": {
        "id": "VAIoOTNqsNpP"
      }
    },
    {
      "cell_type": "code",
      "source": [
        "num = int(input(\"enter a number: \"))\n",
        "factorial = 1\n",
        "while num > 0:\n",
        "    factorial *= num\n",
        "    num -= 1\n",
        "print(factorial)"
      ],
      "metadata": {
        "colab": {
          "base_uri": "https://localhost:8080/"
        },
        "id": "eSlXuboBsFeh",
        "outputId": "e2272638-8c7c-48fa-a93a-3fdc4867c335"
      },
      "execution_count": null,
      "outputs": [
        {
          "output_type": "stream",
          "name": "stdout",
          "text": [
            "enter a number: 4\n",
            "24\n"
          ]
        }
      ]
    }
  ]
}