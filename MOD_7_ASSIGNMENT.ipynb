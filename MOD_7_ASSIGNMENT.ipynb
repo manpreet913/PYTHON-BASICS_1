{
  "nbformat": 4,
  "nbformat_minor": 0,
  "metadata": {
    "colab": {
      "provenance": []
    },
    "kernelspec": {
      "name": "python3",
      "display_name": "Python 3"
    },
    "language_info": {
      "name": "python"
    }
  },
  "cells": [
    {
      "cell_type": "markdown",
      "source": [
        " # Files & Exceptional handling Assignment"
      ],
      "metadata": {
        "id": "PhlkH-QQlkm1"
      }
    },
    {
      "cell_type": "markdown",
      "source": [
        "## **Theoritical Questions**"
      ],
      "metadata": {
        "id": "ZUdQsfkWlrks"
      }
    },
    {
      "cell_type": "markdown",
      "source": [
        "\n",
        "1. What is the difference between interpreted and compiled languages?\n",
        "- Interpreted Language: Executes code line by line at runtime (e.g., Python). Compiled Language: Converts code to machine code before execution (e.g., C, C++).\n",
        "Key Difference:\n",
        "Interpreted → Slower, no separate executable\n",
        "Compiled → Faster, creates an executable file\n",
        "2. What is exception handling in Python?\n",
        "- Exception handling in Python is a way to handle errors during program execution using try, except, else, and finally blocks, so the program doesn’t crash.\n",
        "3. What is the purpose of the finally block in exception handling?\n",
        "- the finally block in exception handling is to execute the finaly block code always.\n",
        "4. What is logging in Python?\n",
        "- Logging in Python is the process of recording messages (like errors, warnings, or info) during program execution using the logging module. It helps in debugging and monitoring.\n",
        "5. What is the significance of the __del__ method in Python?\n",
        "- The __del__ method is a destructor in Python. It is called automatically when an object is deleted to perform cleanup tasks like closing files or releasing resources.\n",
        "6. What is the difference between import and from ... import in Python?\n",
        "- import module: Imports the whole module. You access functions with module.function().\n",
        "from module import function: Imports specific parts. You use function() directly.\n",
        "7. How can you handle multiple exceptions in Python?\n",
        "- I can handle multiple exceptions using multiple except blocks or a single except block with a tuple of exceptions.\n",
        "8. What is the purpose of the with statement when handling files in Python?\n",
        "- The with statement is used to open and handle files safely. It automatically closes the file after the block is executed, even if an error occurs.\n",
        "9. What is the difference between multithreading and multiprocessing?\n",
        "- Multithreading: Runs multiple threads within a single process.\n",
        "Multiprocessing: Runs multiple processes. Key Difference: Threads share memory; processes have separate memory.\n",
        "10. What are the advantages of using logging in a program?\n",
        "- Advantages of using logging:\n",
        "Tracks errors without stopping the program.\n",
        "Helps debug and understand program flow.\n",
        "Stores logs in files for future analysis.\n",
        "Offers different levels (info, warning, error).\n",
        "Better than using print() in production code.\n",
        "11. What is memory management in Python?\n",
        "- Memory management in Python is the process of allocating and freeing memory automatically. It uses:Automatic garbage collection to remove unused objects.\n",
        "Reference counting to track object usage.\n",
        "Private heap space to store all objects and data.\n",
        "12. What are the basic steps involved in exception handling in Python?\n",
        "- Basic steps in exception handling in Python:\n",
        "Try – Write the code that may cause an error.\n",
        "Except – Handle the error if it occurs.\n",
        "Else – Run code if no error occurs (optional).\n",
        "Finally – Always run this block (optional).\n",
        "13. Why is memory management important in Python?\n",
        "- It ensures efficient use of memory and prevents memory leaks or crashes.\n",
        "14. What is the role of try and except in exception handling?\n",
        "- try runs risky code, except catches and handles the error if it occurs.\n",
        "15. How does Python's garbage collection system work?\n",
        "- It automatically deletes unused objects using reference counting and a cyclic garbage collector.\n",
        "16. What is the purpose of the else block in exception handling?\n",
        "- The else block runs only if no exception occurs in the try block.\n",
        "17. What are the common logging levels in Python?\n",
        "- DEBUG, INFO, WARNING, ERROR and CRITICAL\n",
        "18. What is the difference between os.fork() and multiprocessing in Python?\n",
        "- os.fork() is used in Unix-based systems to create a new process directly.\n",
        "multiprocessing is a portable module that works on all platforms to create and manage processes easily.\n",
        "19. What is the importance of closing a file in Python?\n",
        "- It frees system resources and ensures data is properly saved and not corrupted.\n",
        "20. What is the difference between file.read() and file.readline() in Python?\n",
        "- read() reads the entire file. readline() reads one line at a time.\n",
        "21. What is the logging module in Python used for?\n",
        "- To record messages about program events (like errors, info, etc.) for debugging and monitoring.\n",
        "22. What is the os module in Python used for in file handling?\n",
        "- It allows interaction with the operating system, like creating, removing, or navigating files and directories.\n",
        "23. What are the challenges associated with memory management in Python?\n",
        "- Handling circular references, Managing large objects, Understanding reference leaks\n",
        "24. How do you raise an exception manually in Python?\n",
        "- Using the raise keyword.\n",
        "25. Why is it important to use multithreading in certain applications?\n",
        "-  It improves performance in I/O-bound tasks by allowing multiple operations (like file download, user input) to run at the same time.\n",
        "\n"
      ],
      "metadata": {
        "id": "tIDiwG2XlrnR"
      }
    },
    {
      "cell_type": "markdown",
      "source": [
        "##**Practical Questions**"
      ],
      "metadata": {
        "id": "-FjNRmX1l4Fq"
      }
    },
    {
      "cell_type": "markdown",
      "source": [
        "1. How can you open a file for writing in Python and write a string to it?"
      ],
      "metadata": {
        "id": "kH2P6OXtl7_Z"
      }
    },
    {
      "cell_type": "code",
      "source": [
        "with open('example.txt', 'w') as file:\n",
        "    file.write('Hello, World!')"
      ],
      "metadata": {
        "id": "C29Uegubl32j"
      },
      "execution_count": 1,
      "outputs": []
    },
    {
      "cell_type": "markdown",
      "source": [
        " 2. Write a Python program to read the contents of a file and print each line.\n",
        "\n"
      ],
      "metadata": {
        "id": "N15GMmk2l3s6"
      }
    },
    {
      "cell_type": "code",
      "source": [
        "with open('example.txt', 'r') as file:\n",
        "    for line in file:\n",
        "        print(line.strip())"
      ],
      "metadata": {
        "colab": {
          "base_uri": "https://localhost:8080/"
        },
        "id": "mTQkJbiwl3lT",
        "outputId": "12892087-a82c-4e6e-85a5-70816745f377"
      },
      "execution_count": 2,
      "outputs": [
        {
          "output_type": "stream",
          "name": "stdout",
          "text": [
            "Hello, World!\n"
          ]
        }
      ]
    },
    {
      "cell_type": "markdown",
      "source": [
        "3. How would you handle a case where the file doesn't exist while trying to open it for reading?\n"
      ],
      "metadata": {
        "id": "nlxgeKoXl3cx"
      }
    },
    {
      "cell_type": "code",
      "source": [
        "try:\n",
        "  with open('nonexist.txt', 'r') as file:\n",
        "    content = file.read()\n",
        "    print(content)\n",
        "except FileNotFoundError:\n",
        "    print(\"File not found.\")"
      ],
      "metadata": {
        "colab": {
          "base_uri": "https://localhost:8080/"
        },
        "id": "mQCCGjSDl3R5",
        "outputId": "6ec224a6-8320-4f88-f021-bec6fa58f31e"
      },
      "execution_count": 3,
      "outputs": [
        {
          "output_type": "stream",
          "name": "stdout",
          "text": [
            "File not found.\n"
          ]
        }
      ]
    },
    {
      "cell_type": "markdown",
      "source": [
        "4. Write a Python script that reads from one file and writes its content to another file.\n",
        "\n"
      ],
      "metadata": {
        "id": "ceLT_N61l2t7"
      }
    },
    {
      "cell_type": "code",
      "source": [
        "with open('example.txt', 'r') as source_file:\n",
        "    content = source_file.read()\n",
        "\n",
        "with open('copy.txt', 'w') as tgt_file:\n",
        "    tgt_file.write(content)"
      ],
      "metadata": {
        "id": "qPXCGDYFlrx2"
      },
      "execution_count": 4,
      "outputs": []
    },
    {
      "cell_type": "markdown",
      "source": [
        "5. How would you catch and handle division by zero error in Python?\n",
        "\n"
      ],
      "metadata": {
        "id": "q34olJlsmaKh"
      }
    },
    {
      "cell_type": "code",
      "source": [
        "try:\n",
        "    result = 10 / 0\n",
        "except ZeroDivisionError:\n",
        "    print(\"Division by zero.\")"
      ],
      "metadata": {
        "colab": {
          "base_uri": "https://localhost:8080/"
        },
        "id": "VVSeIR4clr8m",
        "outputId": "bb01037e-68aa-44ef-bcb4-5e836229bb6a"
      },
      "execution_count": 5,
      "outputs": [
        {
          "output_type": "stream",
          "name": "stdout",
          "text": [
            "Division by zero.\n"
          ]
        }
      ]
    },
    {
      "cell_type": "markdown",
      "source": [
        "6. Write a Python program that logs an error message to a log file when a division by zero exception occurs."
      ],
      "metadata": {
        "id": "v-aVQjrzma1Y"
      }
    },
    {
      "cell_type": "code",
      "source": [
        "import logging\n",
        "\n",
        "logging.basicConfig(filename='error.log', level=logging.ERROR)\n",
        "\n",
        "try:\n",
        "    result = 10 / 0\n",
        "except ZeroDivisionError:\n",
        "    logging.error(\"Division by zero.\")"
      ],
      "metadata": {
        "colab": {
          "base_uri": "https://localhost:8080/"
        },
        "id": "sht-_MeNlr-s",
        "outputId": "d3e28dc5-c863-4774-ca84-56bd8235935d"
      },
      "execution_count": 6,
      "outputs": [
        {
          "output_type": "stream",
          "name": "stderr",
          "text": [
            "ERROR:root:Division by zero.\n"
          ]
        }
      ]
    },
    {
      "cell_type": "markdown",
      "source": [
        "7. How do you log information at different levels (INFO, ERROR, WARNING) in Python using the logging module?"
      ],
      "metadata": {
        "id": "cGif_e1gmbMb"
      }
    },
    {
      "cell_type": "code",
      "source": [
        "import logging\n",
        "\n",
        "logging.basicConfig(filename='log.txt', level=logging.INFO)\n",
        "\n",
        "logging.info(\"This is an info message.\")\n",
        "logging.error(\"This is an error message.\")\n",
        "logging.warning(\"This is a warning message.\")"
      ],
      "metadata": {
        "colab": {
          "base_uri": "https://localhost:8080/"
        },
        "id": "9jn_f3mglsAn",
        "outputId": "aafbdd49-3938-4e8b-ff04-b75bd60459e8"
      },
      "execution_count": 7,
      "outputs": [
        {
          "output_type": "stream",
          "name": "stderr",
          "text": [
            "ERROR:root:This is an error message.\n",
            "WARNING:root:This is a warning message.\n"
          ]
        }
      ]
    },
    {
      "cell_type": "markdown",
      "source": [
        "8. Write a program to handle a file opening error using exception handling."
      ],
      "metadata": {
        "id": "QTon0WvJmvyi"
      }
    },
    {
      "cell_type": "code",
      "source": [
        "try:\n",
        "    with open('nonexist.txt', 'r') as file:\n",
        "        content = file.read()\n",
        "        print(content)\n",
        "except FileNotFoundError:\n",
        "    print(\"File not found.\")"
      ],
      "metadata": {
        "colab": {
          "base_uri": "https://localhost:8080/"
        },
        "id": "OuT5Tn9wmvE7",
        "outputId": "061e062a-3c15-468f-fbda-d8d87e5f74bd"
      },
      "execution_count": 8,
      "outputs": [
        {
          "output_type": "stream",
          "name": "stdout",
          "text": [
            "File not found.\n"
          ]
        }
      ]
    },
    {
      "cell_type": "markdown",
      "source": [
        "\n",
        "9. How can you read a file line by line and store its content in a list in Python?"
      ],
      "metadata": {
        "id": "cM0-ozSomu6R"
      }
    },
    {
      "cell_type": "code",
      "source": [
        "with open(\"example.txt\", \"r\") as file:\n",
        "    lines = file.readlines()\n",
        "print(lines)"
      ],
      "metadata": {
        "colab": {
          "base_uri": "https://localhost:8080/"
        },
        "id": "yOzpc3onmuu_",
        "outputId": "dbc122ed-947a-46bd-d236-2eb71fe3c4f5"
      },
      "execution_count": 9,
      "outputs": [
        {
          "output_type": "stream",
          "name": "stdout",
          "text": [
            "['Hello, World!']\n"
          ]
        }
      ]
    },
    {
      "cell_type": "markdown",
      "source": [
        "10. How can you append data to an existing file in Python?"
      ],
      "metadata": {
        "id": "jTdSzS_omujh"
      }
    },
    {
      "cell_type": "code",
      "source": [
        "with open(\"example.txt\", \"a\") as file:\n",
        "    file.write(\"\\nAppended line.\")\n",
        "    print(\"Appended data to the existant file.\")\n",
        "    file.close()"
      ],
      "metadata": {
        "colab": {
          "base_uri": "https://localhost:8080/"
        },
        "id": "k6c8QedVm-Ce",
        "outputId": "68a2456f-6d51-4d55-98c3-e4fe9cea8c26"
      },
      "execution_count": 10,
      "outputs": [
        {
          "output_type": "stream",
          "name": "stdout",
          "text": [
            "Appended data to the existant file.\n"
          ]
        }
      ]
    }
  ]
}